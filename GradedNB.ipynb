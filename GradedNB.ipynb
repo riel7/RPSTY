{
 "cells": [
  {
   "cell_type": "markdown",
   "metadata": {},
   "source": [
    "<center>\n",
    "    <img src=\"https://cf-courses-data.s3.us.cloud-object-storage.appdomain.cloud/IBMDeveloperSkillsNetwork-DS0105EN-SkillsNetwork/labs/Module2/images/SN_web_lightmode.png\" width=\"300\" alt=\"cognitiveclass.ai logo\">\n",
    "</center>\n"
   ]
  },
  {
   "cell_type": "markdown",
   "metadata": {},
   "source": [
    "#### Add your code below following the instructions given in the course\n"
   ]
  },
  {
   "cell_type": "markdown",
   "metadata": {},
   "source": [
    "#                  This Is The One"
   ]
  },
  {
   "cell_type": "markdown",
   "metadata": {},
   "source": [
    "### Intro To Data Science"
   ]
  },
  {
   "cell_type": "markdown",
   "metadata": {},
   "source": [
    "##### Data Science Languages\n",
    "* R language\n",
    "* Python\n",
    "* SQL\n",
    "* Java\n",
    "* Scala\n",
    "* C ++\n",
    "* Javascript\n",
    "* Julia"
   ]
  },
  {
   "cell_type": "markdown",
   "metadata": {},
   "source": [
    "##### Data Science Libraries\n",
    "* Numpy\n",
    "* Pandas\n",
    "* MatPlotLib\n",
    "* Seaborn\n",
    "* Scikit \n",
    "* Keras \n",
    "* Tensorflow\n",
    "* Pytorch \n",
    "* Vegas \n",
    "* BigDL\n",
    "* GgPlot2"
   ]
  },
  {
   "cell_type": "markdown",
   "metadata": {},
   "source": [
    "| Data | Science | Tools |\n",
    "| --- | --- | --- |\n",
    "Data Management | Model Monitoring & Assessment |\n",
    "Data Integration | Code Asset Management | \n",
    "Data Visualization | Development Env.\n",
    "Model Building | Execution Environments |\n",
    "Model Deployment | Fully Integrated Visual Tools |"
   ]
  },
  {
   "cell_type": "markdown",
   "metadata": {},
   "source": [
    "3+2 (4 - 3)\n",
    "4 - 5 (5 + 6)"
   ]
  },
  {
   "cell_type": "code",
   "execution_count": 3,
   "metadata": {},
   "outputs": [
    {
     "data": {
      "text/plain": [
       "37"
      ]
     },
     "execution_count": 3,
     "metadata": {},
     "output_type": "execute_result"
    }
   ],
   "source": [
    "6*5+7"
   ]
  },
  {
   "cell_type": "markdown",
   "metadata": {},
   "source": [
    "##### Objectives \n",
    "* Complete Data Science Courses\n",
    "* Get Data Science Job"
   ]
  },
  {
   "cell_type": "markdown",
   "metadata": {},
   "source": [
    "### Gabriel Sion"
   ]
  },
  {
   "cell_type": "code",
   "execution_count": null,
   "metadata": {},
   "outputs": [],
   "source": []
  }
 ],
 "metadata": {
  "kernelspec": {
   "display_name": "Python",
   "language": "python",
   "name": "conda-env-python-py"
  },
  "language_info": {
   "codemirror_mode": {
    "name": "ipython",
    "version": 3
   },
   "file_extension": ".py",
   "mimetype": "text/x-python",
   "name": "python",
   "nbconvert_exporter": "python",
   "pygments_lexer": "ipython3",
   "version": "3.7.12"
  }
 },
 "nbformat": 4,
 "nbformat_minor": 4
}
